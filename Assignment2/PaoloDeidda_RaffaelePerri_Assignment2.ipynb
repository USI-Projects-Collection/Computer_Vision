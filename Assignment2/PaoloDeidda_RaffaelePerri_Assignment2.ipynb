{
  "cells": [
    {
      "cell_type": "code",
      "execution_count": 46,
      "metadata": {
        "colab": {
          "base_uri": "https://localhost:8080/",
          "height": 1000
        },
        "id": "YXJT3PW1AANy",
        "outputId": "54fbb324-fd07-46ec-a52e-814a6b49d8e1"
      },
      "outputs": [
        {
          "data": {
            "text/plain": [
              "True"
            ]
          },
          "execution_count": 46,
          "metadata": {},
          "output_type": "execute_result"
        }
      ],
      "source": [
        "import cv2\n",
        "import numpy as np\n",
        "import math\n",
        "\n",
        "A1 = cv2.imread('watch.pgm', cv2.IMREAD_GRAYSCALE)\n",
        "A1 = A1.astype(np.uint8)\n",
        "\n",
        "if A1 is None:\n",
        "    print('Image not found')\n",
        "\n",
        "M1 = A1.shape[0]\n",
        "N1 = A1.shape[1]\n",
        "\n",
        "# Canvas twice the size of the original image\n",
        "M2 = 2 * M1\n",
        "N2 = 2 * N1\n",
        "A2 = np.ones((M2, N2)) * 255  # Default intensity is white (255)\n",
        "\n",
        "# Rotation angle in degrees by slide 29\n",
        "theta = 25\n",
        "theta_rad = theta * (math.pi / 180)  # Convert to radians\n",
        "\n",
        "h_shear = -math.tan(theta_rad / 2)\n",
        "v_shear = math.sin(theta_rad)\n",
        "\n",
        "T1 = np.array([[1,0,-M1/2],\n",
        "    [0,1,-N1/2],\n",
        "    [0,0,1]])\n",
        "\n",
        "T2 = np.array([[1,0,M2/2],\n",
        "              [0,1,N2/2],\n",
        "              [0,0,1]])\n",
        "\n",
        "# Shear matrix for horizontal shear\n",
        "Sh = np.array([[1, h_shear, 0],\n",
        "                [0, 1, 0],\n",
        "                [0, 0, 1]])\n",
        "\n",
        "# Shear matrix for vertical shear\n",
        "Sv = np.array([[1, 0, 0],\n",
        "               [v_shear, 1, 0],\n",
        "               [0, 0, 1]])\n",
        "\n",
        "\n",
        "# Combine the shears\n",
        "A = T2 @ Sh @ Sv @ Sh @ T1\n",
        "\n",
        "# Calculate the inverse of A\n",
        "A_inv = np.linalg.inv(A)\n",
        "\n",
        "# Perform the transformation and interpolation\n",
        "for i in range(M2):\n",
        "    for j in range(N2):\n",
        "        p = np.array([i, j, 1])\n",
        "\n",
        "        q = np.matmul(A_inv, p)\n",
        "\n",
        "        # Coordinates in A1\n",
        "        x = q[0]\n",
        "        y = q[1]\n",
        "\n",
        "        ''' one-dimensional interpolation '''\n",
        "        if 0 <= x < M1 and 0 <= y < N1:\n",
        "            if abs(h_shear) > abs(v_shear):  # Horizontal shear, interpolate horizontally in the row\n",
        "                k = int(np.floor(x))\n",
        "                u = x - k  # Horizontal interpolation factor\n",
        "\n",
        "                if 0 <= k < M1 - 1:\n",
        "                    A2[i, j] = (1 - u) * A1[k, int(np.floor(y))] + u * A1[k + 1, int(np.floor(y))]\n",
        "\n",
        "            else:  # Vertical shear, interpolate vertically in the column\n",
        "                l = int(np.floor(y))\n",
        "                v = y - l  # Vertical interpolation factor\n",
        "\n",
        "                if 0 <= l < N1 - 1:\n",
        "                    A2[i, j] = (1 - v) * A1[int(np.floor(x)), l] + v * A1[int(np.floor(x)), l + 1]\n",
        "\n",
        "cv2.imwrite(\"Images/A1.png\", A1)\n",
        "cv2.imwrite(\"Images/A2.png\", A2)\n"
      ]
    },
    {
      "cell_type": "code",
      "execution_count": 47,
      "metadata": {
        "colab": {
          "base_uri": "https://localhost:8080/",
          "height": 1000
        },
        "id": "JccfDvEfQvC9",
        "outputId": "7563f98b-8ab9-48ff-8487-b9c61edbadb8"
      },
      "outputs": [
        {
          "data": {
            "text/plain": [
              "True"
            ]
          },
          "execution_count": 47,
          "metadata": {},
          "output_type": "execute_result"
        }
      ],
      "source": [
        "# Read and view an image\n",
        "A1b = cv2.imread(\"watch.pgm\", cv2.IMREAD_GRAYSCALE)\n",
        "\n",
        "# Get height and width of source image\n",
        "M1b = A1b.shape[0]\n",
        "N1b = A1b.shape[1]\n",
        "\n",
        "# Set height and width of target image\n",
        "M2b = 2 * M1b\n",
        "N2b = 2 * N1b\n",
        "A2b = np.zeros((M2b,N2b))\n",
        "\n",
        "# Set default intensity to white\n",
        "A2b[:,:] = 255\n",
        "\n",
        "# Translate image centre of A1b to origin\n",
        "T1 = np.array(\n",
        "[[1,0,-M1b/2],\n",
        " [0,1,-N1b/2],\n",
        " [0,0,1]])\n",
        "\n",
        "# Rotate about origin by 25 degrees\n",
        "theta = 25/180*math.pi\n",
        "c = math.cos(theta)\n",
        "s = math.sin(theta)\n",
        "R = np.array(\n",
        "[[c,-s, 0],\n",
        " [s, c, 0],\n",
        " [0, 0, 1]])\n",
        "\n",
        "# Translate origin to image centre of A2b\n",
        "T2 = np.array(\n",
        "[[1,0,M2b/2],\n",
        " [0,1,N2b/2],\n",
        " [0,0,1]])\n",
        "\n",
        "# Transformation that rotates A1b by theta about its centre\n",
        "# and maps to the centre of A2b\n",
        "Ab = np.matmul(T2,np.matmul(R,T1))\n",
        "\n",
        "# Invert A\n",
        "Ab = np.linalg.inv(Ab)\n",
        "\n",
        "# Transformation with inverse mapping and bilinear interpolation\n",
        "for i in range(0,M2b):\n",
        "  for j in range(0,N2b):\n",
        "    # coordinates of the (i,j)-th pixel in A2b\n",
        "    x = i + 0.5\n",
        "    y = j + 0.5\n",
        "    # convert to homegeneous coordinates\n",
        "    p = np.array([x,y,1])\n",
        "    # transform with matrix A\n",
        "    q = np.matmul(Ab,p)\n",
        "    # coordinates in A1b\n",
        "    x = q[0]\n",
        "    y = q[1]\n",
        "    # bilinear interpolation\n",
        "    k = round(x) - 1\n",
        "    l = round(y) - 1\n",
        "    u = x - k - 0.5\n",
        "    v = y - l - 0.5\n",
        "    if ((k >= 0) and (k < M1b-1) and (l >= 0) and (l < N1b-1)):\n",
        "      A2b[i,j] = round( (1-v) * ( (1-u)*A1b[k,l] + u*A1b[k+1,l] ) + v * ( (1-u)*A1b[k,l+1] + u*A1b[k+1,l+1] ) )\n",
        "\n",
        "cv2.imwrite(\"Images/A1b.png\",A1b)\n"
      ]
    },
    {
      "cell_type": "code",
      "execution_count": 48,
      "metadata": {
        "colab": {
          "base_uri": "https://localhost:8080/",
          "height": 1000
        },
        "id": "Gwo4Rd5lUnCp",
        "outputId": "04bd4b19-999b-46b3-a634-d6e7f60eba96"
      },
      "outputs": [
        {
          "name": "stdout",
          "output_type": "stream",
          "text": [
            "Average difference: 1.3235108326242881\n"
          ]
        },
        {
          "data": {
            "text/plain": [
              "True"
            ]
          },
          "execution_count": 48,
          "metadata": {},
          "output_type": "execute_result"
        }
      ],
      "source": [
        "difference = np.abs(A2b - A2)\n",
        "mean = np.mean(difference)\n",
        "print(\"Average difference:\", mean)\n",
        "# show the image differences\n",
        "cv2.imwrite(\"Images/difference.png\",difference)"
      ]
    }
  ],
  "metadata": {
    "colab": {
      "provenance": []
    },
    "kernelspec": {
      "display_name": "base",
      "language": "python",
      "name": "python3"
    },
    "language_info": {
      "codemirror_mode": {
        "name": "ipython",
        "version": 3
      },
      "file_extension": ".py",
      "mimetype": "text/x-python",
      "name": "python",
      "nbconvert_exporter": "python",
      "pygments_lexer": "ipython3",
      "version": "3.12.6"
    }
  },
  "nbformat": 4,
  "nbformat_minor": 0
}
