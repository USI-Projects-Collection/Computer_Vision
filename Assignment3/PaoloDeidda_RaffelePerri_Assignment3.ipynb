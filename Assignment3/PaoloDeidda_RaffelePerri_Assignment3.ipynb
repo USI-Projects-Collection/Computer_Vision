{
 "cells": [
  {
   "cell_type": "code",
   "execution_count": 1,
   "metadata": {},
   "outputs": [
    {
     "name": "stdout",
     "output_type": "stream",
     "text": [
      "Sum of absolute differences between B and C: 0\n",
      "B and C are identical.\n",
      "Average difference: 0.0\n"
     ]
    },
    {
     "name": "stderr",
     "output_type": "stream",
     "text": [
      "[ WARN:0@0.244] global loadsave.cpp:848 imwrite_ Unsupported depth image for selected encoder is fallbacked to CV_8U.\n"
     ]
    },
    {
     "data": {
      "text/plain": [
       "True"
      ]
     },
     "execution_count": 1,
     "metadata": {},
     "output_type": "execute_result"
    }
   ],
   "source": [
    "import numpy as np\n",
    "import cv2\n",
    "import matplotlib as plt\n",
    "\n",
    "def histogram_equalization(image):\n",
    "    image = image.astype(np.uint8)\n",
    "    L = 256\n",
    "    \n",
    "    hist, _ = np.histogram(image.flatten(), bins=L, range=(0, L))\n",
    "    total_pixels = image.size\n",
    "    p = hist / total_pixels\n",
    "    \n",
    "    Stilde = np.zeros(L)\n",
    "    Stilde[0] = 0.5 * (L * p[0] - 1)\n",
    "    for i in range(1, L):\n",
    "        Stilde[i] = Stilde[i-1] + 0.5 * L * (p[i-1] + p[i])\n",
    "    \n",
    "    T = np.round(Stilde).astype(np.uint8)\n",
    "    T = np.clip(T, 0, 255)\n",
    "    \n",
    "    return T[image]\n",
    "\n",
    "# Create a sample grayscale image\n",
    "A = cv2.imread(\"dog.pgm\", cv2.IMREAD_GRAYSCALE)\n",
    "if A is None:\n",
    "    print(\"Image is None\")\n",
    "\n",
    "# Generate B and C\n",
    "B = histogram_equalization(A)\n",
    "C = histogram_equalization(B)\n",
    "\n",
    "# save the images\n",
    "cv2.imwrite(\"Images/Original.png\", A)\n",
    "cv2.imwrite(\"Images/B.png\", B)\n",
    "cv2.imwrite(\"Images/C.png\", C)\n",
    "\n",
    "# Check if B and C are the same\n",
    "difference = np.sum(np.abs(B.astype(int) - C.astype(int)))\n",
    "print(f\"Sum of absolute differences between B and C: {difference}\")\n",
    "if difference == 0:\n",
    "    print(\"B and C are identical.\")\n",
    "else:\n",
    "    print(\"B and C are not identical.\")\n",
    "\n",
    "\n",
    "\n",
    "# Check means as an additional verification\n",
    "difference = np.abs(np.mean(B) - np.mean(C))\n",
    "mean = np.mean(difference)\n",
    "print(\"Average difference:\", mean)\n",
    "cv2.imwrite(\"Images/difference.png\",difference)"
   ]
  }
 ],
 "metadata": {
  "kernelspec": {
   "display_name": "base",
   "language": "python",
   "name": "python3"
  },
  "language_info": {
   "codemirror_mode": {
    "name": "ipython",
    "version": 3
   },
   "file_extension": ".py",
   "mimetype": "text/x-python",
   "name": "python",
   "nbconvert_exporter": "python",
   "pygments_lexer": "ipython3",
   "version": "3.12.6"
  }
 },
 "nbformat": 4,
 "nbformat_minor": 2
}
