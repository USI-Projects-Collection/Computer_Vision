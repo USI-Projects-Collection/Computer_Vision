{
 "cells": [
  {
   "cell_type": "code",
   "execution_count": 1,
   "id": "ee60d2f2",
   "metadata": {},
   "outputs": [
    {
     "name": "stdout",
     "output_type": "stream",
     "text": [
      "Point 1: (683, 276)\n",
      "Point 2: (683, 276)\n",
      "Point 3: (683, 276)\n",
      "Point 4: (683, 276)\n",
      "Point 5: (683, 276)\n",
      "Point 6: (683, 276)\n",
      "Point 7: (683, 276)\n",
      "Point 8: (683, 276)\n",
      "Point 9: (683, 276)\n",
      "Point 10: (683, 276)\n",
      "Selected image points (x, y):\n",
      "[[683. 276.]\n",
      " [683. 276.]\n",
      " [683. 276.]\n",
      " [683. 276.]\n",
      " [683. 276.]\n",
      " [683. 276.]\n",
      " [683. 276.]\n",
      " [683. 276.]\n",
      " [683. 276.]\n",
      " [683. 276.]]\n"
     ]
    }
   ],
   "source": [
    "import cv2\n",
    "import numpy as np\n",
    "\n",
    "image_pts = []\n",
    "\n",
    "def click_event(event, x, y, flags, param):\n",
    "    if event == cv2.EVENT_LBUTTONDOWN and len(image_pts) < 10:\n",
    "        image_pts.append((x, y))\n",
    "        print(f\"Point {len(image_pts)}: ({x}, {y})\")\n",
    "        if len(image_pts) == 10:\n",
    "            cv2.destroyAllWindows()\n",
    "\n",
    "# Load your image\n",
    "img = cv2.imread('../Assets/house1.png')\n",
    "if img is None:\n",
    "    raise FileNotFoundError(\"Could not load house1.png\")\n",
    "\n",
    "# Create window and set callback\n",
    "cv2.namedWindow('Click 10 points', cv2.WINDOW_AUTOSIZE)\n",
    "cv2.setMouseCallback('Click 10 points', click_event)\n",
    "\n",
    "# Display image and collect 10 points\n",
    "while True:\n",
    "    cv2.imshow('Click 10 points', img)\n",
    "    # Small wait to process GUI events\n",
    "    key = cv2.waitKey(1) & 0xFF\n",
    "    if len(image_pts) >= 10 or key == ord('q'):\n",
    "        # Close window and give GUI time to update\n",
    "        cv2.destroyAllWindows()\n",
    "        cv2.waitKey(1)\n",
    "        break\n",
    "\n",
    "image_pts = np.array(image_pts, dtype=float)\n",
    "print(\"Selected image points (x, y):\")\n",
    "print(image_pts)"
   ]
  },
  {
   "cell_type": "code",
   "execution_count": 2,
   "id": "bf233c48",
   "metadata": {},
   "outputs": [
    {
     "data": {
      "text/plain": [
       "array([[683., 276.],\n",
       "       [683., 276.],\n",
       "       [683., 276.],\n",
       "       [683., 276.],\n",
       "       [683., 276.],\n",
       "       [683., 276.],\n",
       "       [683., 276.],\n",
       "       [683., 276.],\n",
       "       [683., 276.],\n",
       "       [683., 276.]])"
      ]
     },
     "execution_count": 2,
     "metadata": {},
     "output_type": "execute_result"
    }
   ],
   "source": [
    "image_pts\n"
   ]
  },
  {
   "cell_type": "code",
   "execution_count": null,
   "id": "4da597f0",
   "metadata": {},
   "outputs": [],
   "source": []
  }
 ],
 "metadata": {
  "kernelspec": {
   "display_name": "base",
   "language": "python",
   "name": "python3"
  },
  "language_info": {
   "codemirror_mode": {
    "name": "ipython",
    "version": 3
   },
   "file_extension": ".py",
   "mimetype": "text/x-python",
   "name": "python",
   "nbconvert_exporter": "python",
   "pygments_lexer": "ipython3",
   "version": "3.12.6"
  }
 },
 "nbformat": 4,
 "nbformat_minor": 5
}
