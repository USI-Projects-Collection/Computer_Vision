{
 "cells": [
  {
   "cell_type": "code",
   "execution_count": 16,
   "id": "ee60d2f2",
   "metadata": {},
   "outputs": [],
   "source": [
    "import cv2\n",
    "import numpy as np\n",
    "\n",
    "image_pts = []\n",
    "\n",
    "def click_event(event, x, y, flags, param):\n",
    "    if event == cv2.EVENT_LBUTTONDOWN and len(image_pts) < 10:\n",
    "        image_pts.append((x, y))\n",
    "        print(f\"Point {len(image_pts)}: ({x}, {y})\")\n",
    "        if len(image_pts) == 10:\n",
    "            cv2.destroyAllWindows()\n",
    "\n",
    "# Load your image\n",
    "img = cv2.imread('../Assets/house1.png')\n",
    "if img is None:\n",
    "    raise FileNotFoundError(\"Could not load house1.png\")\n",
    "img0 = cv2.imread('../Assets/0.png')\n",
    "if img0 is None:\n",
    "    raise FileNotFoundError(\"Could not load 0.png\")"
   ]
  },
  {
   "cell_type": "code",
   "execution_count": 17,
   "id": "96da8b93",
   "metadata": {},
   "outputs": [],
   "source": [
    "collect_new_points = False"
   ]
  },
  {
   "cell_type": "code",
   "execution_count": 18,
   "id": "43350008",
   "metadata": {},
   "outputs": [
    {
     "data": {
      "text/plain": [
       "array([[285., 408.],\n",
       "       [414., 267.],\n",
       "       [483., 274.],\n",
       "       [609.,  61.],\n",
       "       [750., 215.],\n",
       "       [575., 482.],\n",
       "       [411.,  58.],\n",
       "       [680., 337.],\n",
       "       [277., 245.],\n",
       "       [734., 393.]])"
      ]
     },
     "execution_count": 18,
     "metadata": {},
     "output_type": "execute_result"
    }
   ],
   "source": [
    "# Create window and set callback\n",
    "cv2.namedWindow('Click 10 points', cv2.WINDOW_AUTOSIZE)\n",
    "cv2.setMouseCallback('Click 10 points', click_event)\n",
    "\n",
    "# Display image and collect 10 points\n",
    "if collect_new_points:\n",
    "    while True:\n",
    "        cv2.imshow('Click 10 points', img)\n",
    "        cv2.imshow('Referring image', img0)\n",
    "        # Small wait to process GUI events\n",
    "        key = cv2.waitKey(1) & 0xFF\n",
    "        if len(image_pts) >= 10 or key == ord('q'):\n",
    "            # Close window and give GUI time to update\n",
    "            cv2.destroyAllWindows()\n",
    "            cv2.waitKey(1)\n",
    "            break\n",
    "else:\n",
    "    # Load points from file\n",
    "    with open('../Assets/house1_2D_points.txt', 'r') as f:\n",
    "        for line in f:\n",
    "            x, y = map(float, line.strip().split())\n",
    "            image_pts.append((x, y))\n",
    "\n",
    "image_pts = np.array(image_pts, dtype=float)\n",
    "image_pts"
   ]
  }
 ],
 "metadata": {
  "kernelspec": {
   "display_name": "base",
   "language": "python",
   "name": "python3"
  },
  "language_info": {
   "codemirror_mode": {
    "name": "ipython",
    "version": 3
   },
   "file_extension": ".py",
   "mimetype": "text/x-python",
   "name": "python",
   "nbconvert_exporter": "python",
   "pygments_lexer": "ipython3",
   "version": "3.12.6"
  }
 },
 "nbformat": 4,
 "nbformat_minor": 5
}
